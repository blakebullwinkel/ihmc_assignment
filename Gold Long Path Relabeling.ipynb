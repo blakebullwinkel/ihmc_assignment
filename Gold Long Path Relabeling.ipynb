{
 "cells": [
  {
   "cell_type": "markdown",
   "metadata": {},
   "source": [
    "# Flight Path \"Gold\" Long Path Waypoint Relabeling\n",
    "This notebook explains how to relabel the gold waypoints so that the values of \"PreviousWayPoint_code\", \"NextWayPoint_code\" and \"TargetWayPoint_code\" in each segment correspond to those values in the blue flight path, in which the waypoints are labeled sequentially (0-34)."
   ]
  },
  {
   "cell_type": "code",
   "execution_count": 1,
   "metadata": {},
   "outputs": [],
   "source": [
    "import matplotlib.pyplot as plt\n",
    "import numpy as np\n",
    "import pandas as pd\n",
    "import seaborn as sns"
   ]
  },
  {
   "cell_type": "markdown",
   "metadata": {},
   "source": [
    "We define an algorithmic relabeling function that applies a linear transformation onto all points that lie between certain \"PreviousWayPoint_code\" and \"TargetWayPoint_code\" values."
   ]
  },
  {
   "cell_type": "code",
   "execution_count": 81,
   "metadata": {},
   "outputs": [],
   "source": [
    "def code_relabel(code):\n",
    "    for i in range(0,8):\n",
    "        if (code['PreviousWayPoint_code'] >= 2+4*i) and (code['TargetWayPoint_code'] <= 5+4*i):\n",
    "            return code+(28-8*i)\n",
    "        else:\n",
    "            return code"
   ]
  },
  {
   "cell_type": "markdown",
   "metadata": {},
   "source": [
    "We can apply this function to a particular flight path dataframe as follows:"
   ]
  },
  {
   "cell_type": "code",
   "execution_count": 80,
   "metadata": {},
   "outputs": [],
   "source": [
    "p3061 = pd.read_csv(r'C:\\Users\\Blake Bullwinkel\\Downloads\\WSSCGQWVS Corrected Sim Segments\\GoldFlightSimData\\AFRLAgent_6152807954238_P3061.txt',sep='\t',skiprows=2)\n",
    "p3061[['PreviousWayPoint_code','NextWayPoint_code','TargetWayPoint_code']] = p3061[['PreviousWayPoint_code','NextWayPoint_code','TargetWayPoint_code']].apply(code_relabel,axis=1)"
   ]
  },
  {
   "cell_type": "markdown",
   "metadata": {},
   "source": [
    "## Creating Relabeled Files\n",
    "The code below will relabel the waypoints for each gold flight path and save each as a new .txt file."
   ]
  },
  {
   "cell_type": "code",
   "execution_count": 83,
   "metadata": {},
   "outputs": [],
   "source": [
    "pilot_ids = ['6152807954238_P3061','6168263773276_P5454','6201001215825_P3130','6206460016536_P7234','6239379978497_P7438','6366148086779_P5521','6704895162782_P8641']\n",
    "\n",
    "for pilot_id in pilot_ids:\n",
    "    path = pd.read_csv(r'C:\\Users\\Blake Bullwinkel\\Downloads\\WSSCGQWVS Corrected Sim Segments\\GoldFlightSimData\\AFRLAgent_'+pilot_id+'.txt',sep='\t',skiprows=2)\n",
    "    path[['PreviousWayPoint_code','NextWayPoint_code','TargetWayPoint_code']] = path[['PreviousWayPoint_code','NextWayPoint_code','TargetWayPoint_code']].apply(code_relabel,axis=1)\n",
    "    path.to_csv('Relabeled_AFRLAgent_'+pilot_id+'.txt',na_rep=np.NaN,index=False,sep='\t')"
   ]
  },
  {
   "cell_type": "code",
   "execution_count": null,
   "metadata": {},
   "outputs": [],
   "source": []
  }
 ],
 "metadata": {
  "kernelspec": {
   "display_name": "Python 3",
   "language": "python",
   "name": "python3"
  },
  "language_info": {
   "codemirror_mode": {
    "name": "ipython",
    "version": 3
   },
   "file_extension": ".py",
   "mimetype": "text/x-python",
   "name": "python",
   "nbconvert_exporter": "python",
   "pygments_lexer": "ipython3",
   "version": "3.7.4"
  }
 },
 "nbformat": 4,
 "nbformat_minor": 2
}
