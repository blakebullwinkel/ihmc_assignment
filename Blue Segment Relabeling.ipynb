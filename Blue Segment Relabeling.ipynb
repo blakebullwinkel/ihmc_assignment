{
 "cells": [
  {
   "cell_type": "markdown",
   "metadata": {},
   "source": [
    "# Flight Path \"Blue\" Segment Waypoint Relabeling"
   ]
  },
  {
   "cell_type": "markdown",
   "metadata": {},
   "source": [
    "This notebook explains how to relabel the waypoints on the \"blue\" flight path so that adjacent waypoints are numbered sequentially (0-34)."
   ]
  },
  {
   "cell_type": "code",
   "execution_count": 114,
   "metadata": {},
   "outputs": [],
   "source": [
    "import matplotlib.pyplot as plt\n",
    "import numpy as np\n",
    "import pandas as pd\n",
    "import seaborn as sns"
   ]
  },
  {
   "cell_type": "markdown",
   "metadata": {},
   "source": [
    "# Example Relabeling\n",
    " The sections below explain how to relabel the waypoints for each segment of the path flown by pilot P8543."
   ]
  },
  {
   "cell_type": "markdown",
   "metadata": {},
   "source": [
    "### Segment A Waypoints\n",
    "Segment A waypoints do not require transformation."
   ]
  },
  {
   "cell_type": "code",
   "execution_count": 33,
   "metadata": {},
   "outputs": [
    {
     "data": {
      "text/html": [
       "<div>\n",
       "<style scoped>\n",
       "    .dataframe tbody tr th:only-of-type {\n",
       "        vertical-align: middle;\n",
       "    }\n",
       "\n",
       "    .dataframe tbody tr th {\n",
       "        vertical-align: top;\n",
       "    }\n",
       "\n",
       "    .dataframe thead th {\n",
       "        text-align: right;\n",
       "    }\n",
       "</style>\n",
       "<table border=\"1\" class=\"dataframe\">\n",
       "  <thead>\n",
       "    <tr style=\"text-align: right;\">\n",
       "      <th></th>\n",
       "      <th>PreviousWayPoint_code</th>\n",
       "      <th>NextWayPoint_code</th>\n",
       "      <th>TargetWayPoint_code</th>\n",
       "    </tr>\n",
       "  </thead>\n",
       "  <tbody>\n",
       "    <tr>\n",
       "      <td>41</td>\n",
       "      <td>0.0</td>\n",
       "      <td>1.0</td>\n",
       "      <td>1.0</td>\n",
       "    </tr>\n",
       "    <tr>\n",
       "      <td>48</td>\n",
       "      <td>0.0</td>\n",
       "      <td>1.0</td>\n",
       "      <td>1.0</td>\n",
       "    </tr>\n",
       "    <tr>\n",
       "      <td>55</td>\n",
       "      <td>0.0</td>\n",
       "      <td>1.0</td>\n",
       "      <td>1.0</td>\n",
       "    </tr>\n",
       "    <tr>\n",
       "      <td>63</td>\n",
       "      <td>0.0</td>\n",
       "      <td>1.0</td>\n",
       "      <td>1.0</td>\n",
       "    </tr>\n",
       "    <tr>\n",
       "      <td>70</td>\n",
       "      <td>0.0</td>\n",
       "      <td>1.0</td>\n",
       "      <td>1.0</td>\n",
       "    </tr>\n",
       "    <tr>\n",
       "      <td>...</td>\n",
       "      <td>...</td>\n",
       "      <td>...</td>\n",
       "      <td>...</td>\n",
       "    </tr>\n",
       "    <tr>\n",
       "      <td>1772</td>\n",
       "      <td>0.0</td>\n",
       "      <td>1.0</td>\n",
       "      <td>1.0</td>\n",
       "    </tr>\n",
       "    <tr>\n",
       "      <td>1779</td>\n",
       "      <td>0.0</td>\n",
       "      <td>1.0</td>\n",
       "      <td>1.0</td>\n",
       "    </tr>\n",
       "    <tr>\n",
       "      <td>1785</td>\n",
       "      <td>0.0</td>\n",
       "      <td>1.0</td>\n",
       "      <td>1.0</td>\n",
       "    </tr>\n",
       "    <tr>\n",
       "      <td>1792</td>\n",
       "      <td>0.0</td>\n",
       "      <td>1.0</td>\n",
       "      <td>1.0</td>\n",
       "    </tr>\n",
       "    <tr>\n",
       "      <td>1800</td>\n",
       "      <td>0.0</td>\n",
       "      <td>1.0</td>\n",
       "      <td>1.0</td>\n",
       "    </tr>\n",
       "  </tbody>\n",
       "</table>\n",
       "<p>251 rows × 3 columns</p>\n",
       "</div>"
      ],
      "text/plain": [
       "      PreviousWayPoint_code  NextWayPoint_code  TargetWayPoint_code\n",
       "41                      0.0                1.0                  1.0\n",
       "48                      0.0                1.0                  1.0\n",
       "55                      0.0                1.0                  1.0\n",
       "63                      0.0                1.0                  1.0\n",
       "70                      0.0                1.0                  1.0\n",
       "...                     ...                ...                  ...\n",
       "1772                    0.0                1.0                  1.0\n",
       "1779                    0.0                1.0                  1.0\n",
       "1785                    0.0                1.0                  1.0\n",
       "1792                    0.0                1.0                  1.0\n",
       "1800                    0.0                1.0                  1.0\n",
       "\n",
       "[251 rows x 3 columns]"
      ]
     },
     "execution_count": 33,
     "metadata": {},
     "output_type": "execute_result"
    }
   ],
   "source": [
    "blue_A = pd.read_csv(r'C:\\Users\\Blake Bullwinkel\\Downloads\\WSSCGQWVS Corrected Sim Segments\\Blue\\Group_1_6454302531282_P8543_Blue_0_A.txt',sep='\t')\n",
    "blue_A_waypoints = blue_A[['PreviousWayPoint_code','NextWayPoint_code','TargetWayPoint_code']].dropna()\n",
    "blue_A_waypoints"
   ]
  },
  {
   "cell_type": "code",
   "execution_count": 141,
   "metadata": {},
   "outputs": [
    {
     "data": {
      "text/plain": [
       "Text(0.5, 1.0, 'Segment A Flight Path')"
      ]
     },
     "execution_count": 141,
     "metadata": {},
     "output_type": "execute_result"
    },
    {
     "data": {
      "image/png": "[encoded data removed]",
      "text/plain": [
       "<Figure size 432x288 with 1 Axes>"
      ]
     },
     "metadata": {
      "needs_background": "light"
     },
     "output_type": "display_data"
    }
   ],
   "source": [
    "fig1 = plt.figure()\n",
    "axes1 = fig1.add_axes([0.1,0.1,0.8,0.8])\n",
    "axes1.plot(blue_A['Longitude_deg'],blue_A['Latitude_deg'])\n",
    "axes1.set_xlabel('Longitude')\n",
    "axes1.set_ylabel('Latitude')\n",
    "axes1.set_title('Segment A Flight Path')"
   ]
  },
  {
   "cell_type": "markdown",
   "metadata": {},
   "source": [
    "### Segment B Waypoints\n",
    "Segment B waypoints do not require transformation."
   ]
  },
  {
   "cell_type": "code",
   "execution_count": 37,
   "metadata": {},
   "outputs": [
    {
     "data": {
      "text/html": [
       "<div>\n",
       "<style scoped>\n",
       "    .dataframe tbody tr th:only-of-type {\n",
       "        vertical-align: middle;\n",
       "    }\n",
       "\n",
       "    .dataframe tbody tr th {\n",
       "        vertical-align: top;\n",
       "    }\n",
       "\n",
       "    .dataframe thead th {\n",
       "        text-align: right;\n",
       "    }\n",
       "</style>\n",
       "<table border=\"1\" class=\"dataframe\">\n",
       "  <thead>\n",
       "    <tr style=\"text-align: right;\">\n",
       "      <th></th>\n",
       "      <th>PreviousWayPoint_code</th>\n",
       "      <th>NextWayPoint_code</th>\n",
       "      <th>TargetWayPoint_code</th>\n",
       "    </tr>\n",
       "  </thead>\n",
       "  <tbody>\n",
       "    <tr>\n",
       "      <td>7</td>\n",
       "      <td>1.0</td>\n",
       "      <td>2.0</td>\n",
       "      <td>3.0</td>\n",
       "    </tr>\n",
       "    <tr>\n",
       "      <td>14</td>\n",
       "      <td>1.0</td>\n",
       "      <td>2.0</td>\n",
       "      <td>3.0</td>\n",
       "    </tr>\n",
       "    <tr>\n",
       "      <td>21</td>\n",
       "      <td>1.0</td>\n",
       "      <td>2.0</td>\n",
       "      <td>3.0</td>\n",
       "    </tr>\n",
       "    <tr>\n",
       "      <td>28</td>\n",
       "      <td>1.0</td>\n",
       "      <td>2.0</td>\n",
       "      <td>3.0</td>\n",
       "    </tr>\n",
       "    <tr>\n",
       "      <td>35</td>\n",
       "      <td>1.0</td>\n",
       "      <td>2.0</td>\n",
       "      <td>3.0</td>\n",
       "    </tr>\n",
       "    <tr>\n",
       "      <td>...</td>\n",
       "      <td>...</td>\n",
       "      <td>...</td>\n",
       "      <td>...</td>\n",
       "    </tr>\n",
       "    <tr>\n",
       "      <td>2124</td>\n",
       "      <td>1.0</td>\n",
       "      <td>2.0</td>\n",
       "      <td>3.0</td>\n",
       "    </tr>\n",
       "    <tr>\n",
       "      <td>2130</td>\n",
       "      <td>1.0</td>\n",
       "      <td>2.0</td>\n",
       "      <td>3.0</td>\n",
       "    </tr>\n",
       "    <tr>\n",
       "      <td>2137</td>\n",
       "      <td>1.0</td>\n",
       "      <td>2.0</td>\n",
       "      <td>3.0</td>\n",
       "    </tr>\n",
       "    <tr>\n",
       "      <td>2145</td>\n",
       "      <td>1.0</td>\n",
       "      <td>2.0</td>\n",
       "      <td>3.0</td>\n",
       "    </tr>\n",
       "    <tr>\n",
       "      <td>2152</td>\n",
       "      <td>1.0</td>\n",
       "      <td>2.0</td>\n",
       "      <td>3.0</td>\n",
       "    </tr>\n",
       "  </tbody>\n",
       "</table>\n",
       "<p>300 rows × 3 columns</p>\n",
       "</div>"
      ],
      "text/plain": [
       "      PreviousWayPoint_code  NextWayPoint_code  TargetWayPoint_code\n",
       "7                       1.0                2.0                  3.0\n",
       "14                      1.0                2.0                  3.0\n",
       "21                      1.0                2.0                  3.0\n",
       "28                      1.0                2.0                  3.0\n",
       "35                      1.0                2.0                  3.0\n",
       "...                     ...                ...                  ...\n",
       "2124                    1.0                2.0                  3.0\n",
       "2130                    1.0                2.0                  3.0\n",
       "2137                    1.0                2.0                  3.0\n",
       "2145                    1.0                2.0                  3.0\n",
       "2152                    1.0                2.0                  3.0\n",
       "\n",
       "[300 rows x 3 columns]"
      ]
     },
     "execution_count": 37,
     "metadata": {},
     "output_type": "execute_result"
    }
   ],
   "source": [
    "blue_B = pd.read_csv(r'C:\\Users\\Blake Bullwinkel\\Downloads\\WSSCGQWVS Corrected Sim Segments\\Blue\\Group_1_6454302531282_P8543_Blue_1_B.txt',sep='\t')\n",
    "blue_B_waypoints = blue_B[['PreviousWayPoint_code','NextWayPoint_code','TargetWayPoint_code']].dropna()\n",
    "blue_B_waypoints"
   ]
  },
  {
   "cell_type": "code",
   "execution_count": 142,
   "metadata": {},
   "outputs": [
    {
     "data": {
      "text/plain": [
       "Text(0.5, 1.0, 'Segment B Flight Path')"
      ]
     },
     "execution_count": 142,
     "metadata": {},
     "output_type": "execute_result"
    },
    {
     "data": {
      "image/png": "[encoded data removed]",
      "text/plain": [
       "<Figure size 432x288 with 1 Axes>"
      ]
     },
     "metadata": {
      "needs_background": "light"
     },
     "output_type": "display_data"
    }
   ],
   "source": [
    "fig2 = plt.figure()\n",
    "axes2 = fig2.add_axes([0.1,0.1,0.8,0.8])\n",
    "axes2.plot(blue_B['Longitude_deg'],blue_B['Latitude_deg'])\n",
    "axes2.set_xlabel('Longitude')\n",
    "axes2.set_ylabel('Latitude')\n",
    "axes2.set_title('Segment B Flight Path')"
   ]
  },
  {
   "cell_type": "markdown",
   "metadata": {},
   "source": [
    "### Segment C Waypoints\n",
    "We transform each waypoint in segment C by +28."
   ]
  },
  {
   "cell_type": "code",
   "execution_count": 107,
   "metadata": {},
   "outputs": [
    {
     "data": {
      "text/html": [
       "<div>\n",
       "<style scoped>\n",
       "    .dataframe tbody tr th:only-of-type {\n",
       "        vertical-align: middle;\n",
       "    }\n",
       "\n",
       "    .dataframe tbody tr th {\n",
       "        vertical-align: top;\n",
       "    }\n",
       "\n",
       "    .dataframe thead th {\n",
       "        text-align: right;\n",
       "    }\n",
       "</style>\n",
       "<table border=\"1\" class=\"dataframe\">\n",
       "  <thead>\n",
       "    <tr style=\"text-align: right;\">\n",
       "      <th></th>\n",
       "      <th>PreviousWayPoint_code</th>\n",
       "      <th>NextWayPoint_code</th>\n",
       "      <th>TargetWayPoint_code</th>\n",
       "    </tr>\n",
       "  </thead>\n",
       "  <tbody>\n",
       "    <tr>\n",
       "      <td>7</td>\n",
       "      <td>2.0</td>\n",
       "      <td>3.0</td>\n",
       "      <td>3.0</td>\n",
       "    </tr>\n",
       "    <tr>\n",
       "      <td>13</td>\n",
       "      <td>2.0</td>\n",
       "      <td>3.0</td>\n",
       "      <td>3.0</td>\n",
       "    </tr>\n",
       "    <tr>\n",
       "      <td>20</td>\n",
       "      <td>2.0</td>\n",
       "      <td>3.0</td>\n",
       "      <td>3.0</td>\n",
       "    </tr>\n",
       "    <tr>\n",
       "      <td>27</td>\n",
       "      <td>2.0</td>\n",
       "      <td>3.0</td>\n",
       "      <td>3.0</td>\n",
       "    </tr>\n",
       "    <tr>\n",
       "      <td>34</td>\n",
       "      <td>2.0</td>\n",
       "      <td>3.0</td>\n",
       "      <td>3.0</td>\n",
       "    </tr>\n",
       "    <tr>\n",
       "      <td>...</td>\n",
       "      <td>...</td>\n",
       "      <td>...</td>\n",
       "      <td>...</td>\n",
       "    </tr>\n",
       "    <tr>\n",
       "      <td>8850</td>\n",
       "      <td>4.0</td>\n",
       "      <td>5.0</td>\n",
       "      <td>6.0</td>\n",
       "    </tr>\n",
       "    <tr>\n",
       "      <td>8857</td>\n",
       "      <td>4.0</td>\n",
       "      <td>5.0</td>\n",
       "      <td>6.0</td>\n",
       "    </tr>\n",
       "    <tr>\n",
       "      <td>8865</td>\n",
       "      <td>4.0</td>\n",
       "      <td>5.0</td>\n",
       "      <td>6.0</td>\n",
       "    </tr>\n",
       "    <tr>\n",
       "      <td>8872</td>\n",
       "      <td>4.0</td>\n",
       "      <td>5.0</td>\n",
       "      <td>6.0</td>\n",
       "    </tr>\n",
       "    <tr>\n",
       "      <td>8878</td>\n",
       "      <td>5.0</td>\n",
       "      <td>6.0</td>\n",
       "      <td>6.0</td>\n",
       "    </tr>\n",
       "  </tbody>\n",
       "</table>\n",
       "<p>1237 rows × 3 columns</p>\n",
       "</div>"
      ],
      "text/plain": [
       "      PreviousWayPoint_code  NextWayPoint_code  TargetWayPoint_code\n",
       "7                       2.0                3.0                  3.0\n",
       "13                      2.0                3.0                  3.0\n",
       "20                      2.0                3.0                  3.0\n",
       "27                      2.0                3.0                  3.0\n",
       "34                      2.0                3.0                  3.0\n",
       "...                     ...                ...                  ...\n",
       "8850                    4.0                5.0                  6.0\n",
       "8857                    4.0                5.0                  6.0\n",
       "8865                    4.0                5.0                  6.0\n",
       "8872                    4.0                5.0                  6.0\n",
       "8878                    5.0                6.0                  6.0\n",
       "\n",
       "[1237 rows x 3 columns]"
      ]
     },
     "execution_count": 107,
     "metadata": {},
     "output_type": "execute_result"
    }
   ],
   "source": [
    "blue_C = pd.read_csv(r'C:\\Users\\Blake Bullwinkel\\Downloads\\WSSCGQWVS Corrected Sim Segments\\Blue\\Group_1_6454302531282_P8543_Blue_2_C.txt',sep='\t')\n",
    "blue_C_waypoints = blue_C[['PreviousWayPoint_code','NextWayPoint_code','TargetWayPoint_code']].dropna()\n",
    "blue_C_waypoints"
   ]
  },
  {
   "cell_type": "code",
   "execution_count": 108,
   "metadata": {},
   "outputs": [
    {
     "data": {
      "text/html": [
       "<div>\n",
       "<style scoped>\n",
       "    .dataframe tbody tr th:only-of-type {\n",
       "        vertical-align: middle;\n",
       "    }\n",
       "\n",
       "    .dataframe tbody tr th {\n",
       "        vertical-align: top;\n",
       "    }\n",
       "\n",
       "    .dataframe thead th {\n",
       "        text-align: right;\n",
       "    }\n",
       "</style>\n",
       "<table border=\"1\" class=\"dataframe\">\n",
       "  <thead>\n",
       "    <tr style=\"text-align: right;\">\n",
       "      <th></th>\n",
       "      <th>PreviousWayPoint_code</th>\n",
       "      <th>NextWayPoint_code</th>\n",
       "      <th>TargetWayPoint_code</th>\n",
       "    </tr>\n",
       "  </thead>\n",
       "  <tbody>\n",
       "    <tr>\n",
       "      <td>0</td>\n",
       "      <td>NaN</td>\n",
       "      <td>NaN</td>\n",
       "      <td>NaN</td>\n",
       "    </tr>\n",
       "    <tr>\n",
       "      <td>1</td>\n",
       "      <td>NaN</td>\n",
       "      <td>NaN</td>\n",
       "      <td>NaN</td>\n",
       "    </tr>\n",
       "    <tr>\n",
       "      <td>2</td>\n",
       "      <td>NaN</td>\n",
       "      <td>NaN</td>\n",
       "      <td>NaN</td>\n",
       "    </tr>\n",
       "    <tr>\n",
       "      <td>3</td>\n",
       "      <td>NaN</td>\n",
       "      <td>NaN</td>\n",
       "      <td>NaN</td>\n",
       "    </tr>\n",
       "    <tr>\n",
       "      <td>4</td>\n",
       "      <td>NaN</td>\n",
       "      <td>NaN</td>\n",
       "      <td>NaN</td>\n",
       "    </tr>\n",
       "    <tr>\n",
       "      <td>...</td>\n",
       "      <td>...</td>\n",
       "      <td>...</td>\n",
       "      <td>...</td>\n",
       "    </tr>\n",
       "    <tr>\n",
       "      <td>8876</td>\n",
       "      <td>NaN</td>\n",
       "      <td>NaN</td>\n",
       "      <td>NaN</td>\n",
       "    </tr>\n",
       "    <tr>\n",
       "      <td>8877</td>\n",
       "      <td>NaN</td>\n",
       "      <td>NaN</td>\n",
       "      <td>NaN</td>\n",
       "    </tr>\n",
       "    <tr>\n",
       "      <td>8878</td>\n",
       "      <td>33.0</td>\n",
       "      <td>34.0</td>\n",
       "      <td>34.0</td>\n",
       "    </tr>\n",
       "    <tr>\n",
       "      <td>8879</td>\n",
       "      <td>NaN</td>\n",
       "      <td>NaN</td>\n",
       "      <td>NaN</td>\n",
       "    </tr>\n",
       "    <tr>\n",
       "      <td>8880</td>\n",
       "      <td>NaN</td>\n",
       "      <td>NaN</td>\n",
       "      <td>NaN</td>\n",
       "    </tr>\n",
       "  </tbody>\n",
       "</table>\n",
       "<p>8881 rows × 3 columns</p>\n",
       "</div>"
      ],
      "text/plain": [
       "      PreviousWayPoint_code  NextWayPoint_code  TargetWayPoint_code\n",
       "0                       NaN                NaN                  NaN\n",
       "1                       NaN                NaN                  NaN\n",
       "2                       NaN                NaN                  NaN\n",
       "3                       NaN                NaN                  NaN\n",
       "4                       NaN                NaN                  NaN\n",
       "...                     ...                ...                  ...\n",
       "8876                    NaN                NaN                  NaN\n",
       "8877                    NaN                NaN                  NaN\n",
       "8878                   33.0               34.0                 34.0\n",
       "8879                    NaN                NaN                  NaN\n",
       "8880                    NaN                NaN                  NaN\n",
       "\n",
       "[8881 rows x 3 columns]"
      ]
     },
     "execution_count": 108,
     "metadata": {},
     "output_type": "execute_result"
    }
   ],
   "source": [
    "blue_C = pd.read_csv(r'C:\\Users\\Blake Bullwinkel\\Downloads\\WSSCGQWVS Corrected Sim Segments\\Blue\\Group_1_6454302531282_P8543_Blue_2_C.txt',sep='\t')\n",
    "blue_C[['PreviousWayPoint_code','NextWayPoint_code','TargetWayPoint_code']] = blue_C[['PreviousWayPoint_code','NextWayPoint_code','TargetWayPoint_code']].apply(lambda wp: wp+28)\n",
    "blue_C[['PreviousWayPoint_code','NextWayPoint_code','TargetWayPoint_code']]"
   ]
  },
  {
   "cell_type": "code",
   "execution_count": 143,
   "metadata": {},
   "outputs": [
    {
     "data": {
      "text/plain": [
       "Text(0.5, 1.0, 'Segment C Flight Path')"
      ]
     },
     "execution_count": 143,
     "metadata": {},
     "output_type": "execute_result"
    },
    {
     "data": {
      "image/png": "[encoded data removed]",
      "text/plain": [
       "<Figure size 432x288 with 1 Axes>"
      ]
     },
     "metadata": {
      "needs_background": "light"
     },
     "output_type": "display_data"
    }
   ],
   "source": [
    "fig3 = plt.figure()\n",
    "axes3 = fig3.add_axes([0.1,0.1,0.8,0.8])\n",
    "axes3.plot(blue_C['Longitude_deg'],blue_C['Latitude_deg'])\n",
    "axes3.set_xlabel('Longitude')\n",
    "axes3.set_ylabel('Latitude')\n",
    "axes3.set_title('Segment C Flight Path')"
   ]
  },
  {
   "cell_type": "markdown",
   "metadata": {},
   "source": [
    "### Segment D Waypoints\n",
    "We transform each waypoint in segment D by +20."
   ]
  },
  {
   "cell_type": "code",
   "execution_count": 109,
   "metadata": {},
   "outputs": [
    {
     "data": {
      "text/html": [
       "<div>\n",
       "<style scoped>\n",
       "    .dataframe tbody tr th:only-of-type {\n",
       "        vertical-align: middle;\n",
       "    }\n",
       "\n",
       "    .dataframe tbody tr th {\n",
       "        vertical-align: top;\n",
       "    }\n",
       "\n",
       "    .dataframe thead th {\n",
       "        text-align: right;\n",
       "    }\n",
       "</style>\n",
       "<table border=\"1\" class=\"dataframe\">\n",
       "  <thead>\n",
       "    <tr style=\"text-align: right;\">\n",
       "      <th></th>\n",
       "      <th>PreviousWayPoint_code</th>\n",
       "      <th>NextWayPoint_code</th>\n",
       "      <th>TargetWayPoint_code</th>\n",
       "    </tr>\n",
       "  </thead>\n",
       "  <tbody>\n",
       "    <tr>\n",
       "      <td>0</td>\n",
       "      <td>25.0</td>\n",
       "      <td>26.0</td>\n",
       "      <td>26.0</td>\n",
       "    </tr>\n",
       "    <tr>\n",
       "      <td>1</td>\n",
       "      <td>NaN</td>\n",
       "      <td>NaN</td>\n",
       "      <td>NaN</td>\n",
       "    </tr>\n",
       "    <tr>\n",
       "      <td>2</td>\n",
       "      <td>NaN</td>\n",
       "      <td>NaN</td>\n",
       "      <td>NaN</td>\n",
       "    </tr>\n",
       "    <tr>\n",
       "      <td>3</td>\n",
       "      <td>NaN</td>\n",
       "      <td>NaN</td>\n",
       "      <td>NaN</td>\n",
       "    </tr>\n",
       "    <tr>\n",
       "      <td>4</td>\n",
       "      <td>NaN</td>\n",
       "      <td>NaN</td>\n",
       "      <td>NaN</td>\n",
       "    </tr>\n",
       "    <tr>\n",
       "      <td>...</td>\n",
       "      <td>...</td>\n",
       "      <td>...</td>\n",
       "      <td>...</td>\n",
       "    </tr>\n",
       "    <tr>\n",
       "      <td>8339</td>\n",
       "      <td>NaN</td>\n",
       "      <td>NaN</td>\n",
       "      <td>NaN</td>\n",
       "    </tr>\n",
       "    <tr>\n",
       "      <td>8340</td>\n",
       "      <td>NaN</td>\n",
       "      <td>NaN</td>\n",
       "      <td>NaN</td>\n",
       "    </tr>\n",
       "    <tr>\n",
       "      <td>8341</td>\n",
       "      <td>NaN</td>\n",
       "      <td>NaN</td>\n",
       "      <td>NaN</td>\n",
       "    </tr>\n",
       "    <tr>\n",
       "      <td>8342</td>\n",
       "      <td>NaN</td>\n",
       "      <td>NaN</td>\n",
       "      <td>NaN</td>\n",
       "    </tr>\n",
       "    <tr>\n",
       "      <td>8343</td>\n",
       "      <td>28.0</td>\n",
       "      <td>29.0</td>\n",
       "      <td>29.0</td>\n",
       "    </tr>\n",
       "  </tbody>\n",
       "</table>\n",
       "<p>8344 rows × 3 columns</p>\n",
       "</div>"
      ],
      "text/plain": [
       "      PreviousWayPoint_code  NextWayPoint_code  TargetWayPoint_code\n",
       "0                      25.0               26.0                 26.0\n",
       "1                       NaN                NaN                  NaN\n",
       "2                       NaN                NaN                  NaN\n",
       "3                       NaN                NaN                  NaN\n",
       "4                       NaN                NaN                  NaN\n",
       "...                     ...                ...                  ...\n",
       "8339                    NaN                NaN                  NaN\n",
       "8340                    NaN                NaN                  NaN\n",
       "8341                    NaN                NaN                  NaN\n",
       "8342                    NaN                NaN                  NaN\n",
       "8343                   28.0               29.0                 29.0\n",
       "\n",
       "[8344 rows x 3 columns]"
      ]
     },
     "execution_count": 109,
     "metadata": {},
     "output_type": "execute_result"
    }
   ],
   "source": [
    "blue_D = pd.read_csv(r'C:\\Users\\Blake Bullwinkel\\Downloads\\WSSCGQWVS Corrected Sim Segments\\Blue\\Group_1_6454302531282_P8543_Blue_3_D.txt',sep='\t')\n",
    "blue_D[['PreviousWayPoint_code','NextWayPoint_code','TargetWayPoint_code']] = blue_D[['PreviousWayPoint_code','NextWayPoint_code','TargetWayPoint_code']].apply(lambda wp: wp+20)\n",
    "blue_D[['PreviousWayPoint_code','NextWayPoint_code','TargetWayPoint_code']]"
   ]
  },
  {
   "cell_type": "code",
   "execution_count": 144,
   "metadata": {},
   "outputs": [
    {
     "data": {
      "text/plain": [
       "Text(0.5, 1.0, 'Segment D Flight Path')"
      ]
     },
     "execution_count": 144,
     "metadata": {},
     "output_type": "execute_result"
    },
    {
     "data": {
      "image/png": "[encoded data removed]",
      "text/plain": [
       "<Figure size 432x288 with 1 Axes>"
      ]
     },
     "metadata": {
      "needs_background": "light"
     },
     "output_type": "display_data"
    }
   ],
   "source": [
    "fig4 = plt.figure()\n",
    "axes4 = fig4.add_axes([0.1,0.1,0.8,0.8])\n",
    "axes4.plot(blue_D['Longitude_deg'],blue_D['Latitude_deg'])\n",
    "axes4.set_xlabel('Longitude')\n",
    "axes4.set_ylabel('Latitude')\n",
    "axes4.set_title('Segment D Flight Path')"
   ]
  },
  {
   "cell_type": "markdown",
   "metadata": {},
   "source": [
    "### Segment E Waypoints\n",
    "We transform each waypoint in segment E by +12."
   ]
  },
  {
   "cell_type": "code",
   "execution_count": 112,
   "metadata": {},
   "outputs": [
    {
     "data": {
      "text/html": [
       "<div>\n",
       "<style scoped>\n",
       "    .dataframe tbody tr th:only-of-type {\n",
       "        vertical-align: middle;\n",
       "    }\n",
       "\n",
       "    .dataframe tbody tr th {\n",
       "        vertical-align: top;\n",
       "    }\n",
       "\n",
       "    .dataframe thead th {\n",
       "        text-align: right;\n",
       "    }\n",
       "</style>\n",
       "<table border=\"1\" class=\"dataframe\">\n",
       "  <thead>\n",
       "    <tr style=\"text-align: right;\">\n",
       "      <th></th>\n",
       "      <th>PreviousWayPoint_code</th>\n",
       "      <th>NextWayPoint_code</th>\n",
       "      <th>TargetWayPoint_code</th>\n",
       "    </tr>\n",
       "  </thead>\n",
       "  <tbody>\n",
       "    <tr>\n",
       "      <td>0</td>\n",
       "      <td>21.0</td>\n",
       "      <td>22.0</td>\n",
       "      <td>25.0</td>\n",
       "    </tr>\n",
       "    <tr>\n",
       "      <td>1</td>\n",
       "      <td>NaN</td>\n",
       "      <td>NaN</td>\n",
       "      <td>NaN</td>\n",
       "    </tr>\n",
       "    <tr>\n",
       "      <td>2</td>\n",
       "      <td>NaN</td>\n",
       "      <td>NaN</td>\n",
       "      <td>NaN</td>\n",
       "    </tr>\n",
       "    <tr>\n",
       "      <td>3</td>\n",
       "      <td>NaN</td>\n",
       "      <td>NaN</td>\n",
       "      <td>NaN</td>\n",
       "    </tr>\n",
       "    <tr>\n",
       "      <td>4</td>\n",
       "      <td>NaN</td>\n",
       "      <td>NaN</td>\n",
       "      <td>NaN</td>\n",
       "    </tr>\n",
       "    <tr>\n",
       "      <td>...</td>\n",
       "      <td>...</td>\n",
       "      <td>...</td>\n",
       "      <td>...</td>\n",
       "    </tr>\n",
       "    <tr>\n",
       "      <td>8741</td>\n",
       "      <td>NaN</td>\n",
       "      <td>NaN</td>\n",
       "      <td>NaN</td>\n",
       "    </tr>\n",
       "    <tr>\n",
       "      <td>8742</td>\n",
       "      <td>NaN</td>\n",
       "      <td>NaN</td>\n",
       "      <td>NaN</td>\n",
       "    </tr>\n",
       "    <tr>\n",
       "      <td>8743</td>\n",
       "      <td>NaN</td>\n",
       "      <td>NaN</td>\n",
       "      <td>NaN</td>\n",
       "    </tr>\n",
       "    <tr>\n",
       "      <td>8744</td>\n",
       "      <td>24.0</td>\n",
       "      <td>25.0</td>\n",
       "      <td>25.0</td>\n",
       "    </tr>\n",
       "    <tr>\n",
       "      <td>8745</td>\n",
       "      <td>NaN</td>\n",
       "      <td>NaN</td>\n",
       "      <td>NaN</td>\n",
       "    </tr>\n",
       "  </tbody>\n",
       "</table>\n",
       "<p>8746 rows × 3 columns</p>\n",
       "</div>"
      ],
      "text/plain": [
       "      PreviousWayPoint_code  NextWayPoint_code  TargetWayPoint_code\n",
       "0                      21.0               22.0                 25.0\n",
       "1                       NaN                NaN                  NaN\n",
       "2                       NaN                NaN                  NaN\n",
       "3                       NaN                NaN                  NaN\n",
       "4                       NaN                NaN                  NaN\n",
       "...                     ...                ...                  ...\n",
       "8741                    NaN                NaN                  NaN\n",
       "8742                    NaN                NaN                  NaN\n",
       "8743                    NaN                NaN                  NaN\n",
       "8744                   24.0               25.0                 25.0\n",
       "8745                    NaN                NaN                  NaN\n",
       "\n",
       "[8746 rows x 3 columns]"
      ]
     },
     "execution_count": 112,
     "metadata": {},
     "output_type": "execute_result"
    }
   ],
   "source": [
    "blue_E = pd.read_csv(r'C:\\Users\\Blake Bullwinkel\\Downloads\\WSSCGQWVS Corrected Sim Segments\\Blue\\Group_1_6454302531282_P8543_Blue_4_E.txt',sep='\t')\n",
    "blue_E[['PreviousWayPoint_code','NextWayPoint_code','TargetWayPoint_code']] = blue_E[['PreviousWayPoint_code','NextWayPoint_code','TargetWayPoint_code']].apply(lambda wp: wp+12)\n",
    "blue_E[['PreviousWayPoint_code','NextWayPoint_code','TargetWayPoint_code']]"
   ]
  },
  {
   "cell_type": "code",
   "execution_count": 145,
   "metadata": {},
   "outputs": [
    {
     "data": {
      "text/plain": [
       "Text(0.5, 1.0, 'Segment E Flight Path')"
      ]
     },
     "execution_count": 145,
     "metadata": {},
     "output_type": "execute_result"
    },
    {
     "data": {
      "image/png": "[encoded data removed]",
      "text/plain": [
       "<Figure size 432x288 with 1 Axes>"
      ]
     },
     "metadata": {
      "needs_background": "light"
     },
     "output_type": "display_data"
    }
   ],
   "source": [
    "fig5 = plt.figure()\n",
    "axes5 = fig5.add_axes([0.1,0.1,0.8,0.8])\n",
    "axes5.plot(blue_E['Longitude_deg'],blue_E['Latitude_deg'])\n",
    "axes5.set_xlabel('Longitude')\n",
    "axes5.set_ylabel('Latitude')\n",
    "axes5.set_title('Segment E Flight Path')"
   ]
  },
  {
   "cell_type": "markdown",
   "metadata": {},
   "source": [
    "### Segment F Waypoints\n",
    "We transform each waypoint in segment F by +4."
   ]
  },
  {
   "cell_type": "code",
   "execution_count": 125,
   "metadata": {},
   "outputs": [
    {
     "data": {
      "text/html": [
       "<div>\n",
       "<style scoped>\n",
       "    .dataframe tbody tr th:only-of-type {\n",
       "        vertical-align: middle;\n",
       "    }\n",
       "\n",
       "    .dataframe tbody tr th {\n",
       "        vertical-align: top;\n",
       "    }\n",
       "\n",
       "    .dataframe thead th {\n",
       "        text-align: right;\n",
       "    }\n",
       "</style>\n",
       "<table border=\"1\" class=\"dataframe\">\n",
       "  <thead>\n",
       "    <tr style=\"text-align: right;\">\n",
       "      <th></th>\n",
       "      <th>PreviousWayPoint_code</th>\n",
       "      <th>NextWayPoint_code</th>\n",
       "      <th>TargetWayPoint_code</th>\n",
       "    </tr>\n",
       "  </thead>\n",
       "  <tbody>\n",
       "    <tr>\n",
       "      <td>0</td>\n",
       "      <td>NaN</td>\n",
       "      <td>NaN</td>\n",
       "      <td>NaN</td>\n",
       "    </tr>\n",
       "    <tr>\n",
       "      <td>1</td>\n",
       "      <td>NaN</td>\n",
       "      <td>NaN</td>\n",
       "      <td>NaN</td>\n",
       "    </tr>\n",
       "    <tr>\n",
       "      <td>2</td>\n",
       "      <td>NaN</td>\n",
       "      <td>NaN</td>\n",
       "      <td>NaN</td>\n",
       "    </tr>\n",
       "    <tr>\n",
       "      <td>3</td>\n",
       "      <td>NaN</td>\n",
       "      <td>NaN</td>\n",
       "      <td>NaN</td>\n",
       "    </tr>\n",
       "    <tr>\n",
       "      <td>4</td>\n",
       "      <td>NaN</td>\n",
       "      <td>NaN</td>\n",
       "      <td>NaN</td>\n",
       "    </tr>\n",
       "    <tr>\n",
       "      <td>...</td>\n",
       "      <td>...</td>\n",
       "      <td>...</td>\n",
       "      <td>...</td>\n",
       "    </tr>\n",
       "    <tr>\n",
       "      <td>8732</td>\n",
       "      <td>NaN</td>\n",
       "      <td>NaN</td>\n",
       "      <td>NaN</td>\n",
       "    </tr>\n",
       "    <tr>\n",
       "      <td>8733</td>\n",
       "      <td>NaN</td>\n",
       "      <td>NaN</td>\n",
       "      <td>NaN</td>\n",
       "    </tr>\n",
       "    <tr>\n",
       "      <td>8734</td>\n",
       "      <td>NaN</td>\n",
       "      <td>NaN</td>\n",
       "      <td>NaN</td>\n",
       "    </tr>\n",
       "    <tr>\n",
       "      <td>8735</td>\n",
       "      <td>21.0</td>\n",
       "      <td>22.0</td>\n",
       "      <td>22.0</td>\n",
       "    </tr>\n",
       "    <tr>\n",
       "      <td>8736</td>\n",
       "      <td>NaN</td>\n",
       "      <td>NaN</td>\n",
       "      <td>NaN</td>\n",
       "    </tr>\n",
       "  </tbody>\n",
       "</table>\n",
       "<p>8737 rows × 3 columns</p>\n",
       "</div>"
      ],
      "text/plain": [
       "      PreviousWayPoint_code  NextWayPoint_code  TargetWayPoint_code\n",
       "0                       NaN                NaN                  NaN\n",
       "1                       NaN                NaN                  NaN\n",
       "2                       NaN                NaN                  NaN\n",
       "3                       NaN                NaN                  NaN\n",
       "4                       NaN                NaN                  NaN\n",
       "...                     ...                ...                  ...\n",
       "8732                    NaN                NaN                  NaN\n",
       "8733                    NaN                NaN                  NaN\n",
       "8734                    NaN                NaN                  NaN\n",
       "8735                   21.0               22.0                 22.0\n",
       "8736                    NaN                NaN                  NaN\n",
       "\n",
       "[8737 rows x 3 columns]"
      ]
     },
     "execution_count": 125,
     "metadata": {},
     "output_type": "execute_result"
    }
   ],
   "source": [
    "blue_F = pd.read_csv(r'C:\\Users\\Blake Bullwinkel\\Downloads\\WSSCGQWVS Corrected Sim Segments\\Blue\\Group_1_6454302531282_P8543_Blue_5_F.txt',sep='\t')\n",
    "blue_F[['PreviousWayPoint_code','NextWayPoint_code','TargetWayPoint_code']] = blue_F[['PreviousWayPoint_code','NextWayPoint_code','TargetWayPoint_code']].apply(lambda wp: wp+4)\n",
    "blue_F[['PreviousWayPoint_code','NextWayPoint_code','TargetWayPoint_code']]"
   ]
  },
  {
   "cell_type": "code",
   "execution_count": 146,
   "metadata": {},
   "outputs": [
    {
     "data": {
      "text/plain": [
       "Text(0.5, 1.0, 'Segment F Flight Path')"
      ]
     },
     "execution_count": 146,
     "metadata": {},
     "output_type": "execute_result"
    },
    {
     "data": {
      "image/png": "[encoded data removed]",
      "text/plain": [
       "<Figure size 432x288 with 1 Axes>"
      ]
     },
     "metadata": {
      "needs_background": "light"
     },
     "output_type": "display_data"
    }
   ],
   "source": [
    "fig6 = plt.figure()\n",
    "axes6 = fig6.add_axes([0.1,0.1,0.8,0.8])\n",
    "axes6.plot(blue_F['Longitude_deg'],blue_F['Latitude_deg'])\n",
    "axes6.set_xlabel('Longitude')\n",
    "axes6.set_ylabel('Latitude')\n",
    "axes6.set_title('Segment F Flight Path')"
   ]
  },
  {
   "cell_type": "markdown",
   "metadata": {},
   "source": [
    "### Segment G Waypoints\n",
    "We transform each waypoint in segment G by -4."
   ]
  },
  {
   "cell_type": "code",
   "execution_count": 133,
   "metadata": {},
   "outputs": [
    {
     "data": {
      "text/html": [
       "<div>\n",
       "<style scoped>\n",
       "    .dataframe tbody tr th:only-of-type {\n",
       "        vertical-align: middle;\n",
       "    }\n",
       "\n",
       "    .dataframe tbody tr th {\n",
       "        vertical-align: top;\n",
       "    }\n",
       "\n",
       "    .dataframe thead th {\n",
       "        text-align: right;\n",
       "    }\n",
       "</style>\n",
       "<table border=\"1\" class=\"dataframe\">\n",
       "  <thead>\n",
       "    <tr style=\"text-align: right;\">\n",
       "      <th></th>\n",
       "      <th>PreviousWayPoint_code</th>\n",
       "      <th>NextWayPoint_code</th>\n",
       "      <th>TargetWayPoint_code</th>\n",
       "    </tr>\n",
       "  </thead>\n",
       "  <tbody>\n",
       "    <tr>\n",
       "      <td>0</td>\n",
       "      <td>13.0</td>\n",
       "      <td>14.0</td>\n",
       "      <td>14.0</td>\n",
       "    </tr>\n",
       "    <tr>\n",
       "      <td>1</td>\n",
       "      <td>NaN</td>\n",
       "      <td>NaN</td>\n",
       "      <td>NaN</td>\n",
       "    </tr>\n",
       "    <tr>\n",
       "      <td>2</td>\n",
       "      <td>NaN</td>\n",
       "      <td>NaN</td>\n",
       "      <td>NaN</td>\n",
       "    </tr>\n",
       "    <tr>\n",
       "      <td>3</td>\n",
       "      <td>NaN</td>\n",
       "      <td>NaN</td>\n",
       "      <td>NaN</td>\n",
       "    </tr>\n",
       "    <tr>\n",
       "      <td>4</td>\n",
       "      <td>NaN</td>\n",
       "      <td>NaN</td>\n",
       "      <td>NaN</td>\n",
       "    </tr>\n",
       "    <tr>\n",
       "      <td>...</td>\n",
       "      <td>...</td>\n",
       "      <td>...</td>\n",
       "      <td>...</td>\n",
       "    </tr>\n",
       "    <tr>\n",
       "      <td>8659</td>\n",
       "      <td>NaN</td>\n",
       "      <td>NaN</td>\n",
       "      <td>NaN</td>\n",
       "    </tr>\n",
       "    <tr>\n",
       "      <td>8660</td>\n",
       "      <td>NaN</td>\n",
       "      <td>NaN</td>\n",
       "      <td>NaN</td>\n",
       "    </tr>\n",
       "    <tr>\n",
       "      <td>8661</td>\n",
       "      <td>NaN</td>\n",
       "      <td>NaN</td>\n",
       "      <td>NaN</td>\n",
       "    </tr>\n",
       "    <tr>\n",
       "      <td>8662</td>\n",
       "      <td>16.0</td>\n",
       "      <td>17.0</td>\n",
       "      <td>17.0</td>\n",
       "    </tr>\n",
       "    <tr>\n",
       "      <td>8663</td>\n",
       "      <td>NaN</td>\n",
       "      <td>NaN</td>\n",
       "      <td>NaN</td>\n",
       "    </tr>\n",
       "  </tbody>\n",
       "</table>\n",
       "<p>8664 rows × 3 columns</p>\n",
       "</div>"
      ],
      "text/plain": [
       "      PreviousWayPoint_code  NextWayPoint_code  TargetWayPoint_code\n",
       "0                      13.0               14.0                 14.0\n",
       "1                       NaN                NaN                  NaN\n",
       "2                       NaN                NaN                  NaN\n",
       "3                       NaN                NaN                  NaN\n",
       "4                       NaN                NaN                  NaN\n",
       "...                     ...                ...                  ...\n",
       "8659                    NaN                NaN                  NaN\n",
       "8660                    NaN                NaN                  NaN\n",
       "8661                    NaN                NaN                  NaN\n",
       "8662                   16.0               17.0                 17.0\n",
       "8663                    NaN                NaN                  NaN\n",
       "\n",
       "[8664 rows x 3 columns]"
      ]
     },
     "execution_count": 133,
     "metadata": {},
     "output_type": "execute_result"
    }
   ],
   "source": [
    "blue_G = pd.read_csv(r'C:\\Users\\Blake Bullwinkel\\Downloads\\WSSCGQWVS Corrected Sim Segments\\Blue\\Group_1_6454302531282_P8543_Blue_6_G.txt',sep='\t')\n",
    "blue_G[['PreviousWayPoint_code','NextWayPoint_code','TargetWayPoint_code']] = blue_G[['PreviousWayPoint_code','NextWayPoint_code','TargetWayPoint_code']].apply(lambda wp: wp-4)\n",
    "blue_G[['PreviousWayPoint_code','NextWayPoint_code','TargetWayPoint_code']]"
   ]
  },
  {
   "cell_type": "code",
   "execution_count": 147,
   "metadata": {},
   "outputs": [
    {
     "data": {
      "text/plain": [
       "Text(0.5, 1.0, 'Segment G Flight Path')"
      ]
     },
     "execution_count": 147,
     "metadata": {},
     "output_type": "execute_result"
    },
    {
     "data": {
      "image/png": "[encoded data removed]",
      "text/plain": [
       "<Figure size 432x288 with 1 Axes>"
      ]
     },
     "metadata": {
      "needs_background": "light"
     },
     "output_type": "display_data"
    }
   ],
   "source": [
    "fig7 = plt.figure()\n",
    "axes7 = fig7.add_axes([0.1,0.1,0.8,0.8])\n",
    "axes7.plot(blue_G['Longitude_deg'],blue_G['Latitude_deg'])\n",
    "axes7.set_xlabel('Longitude')\n",
    "axes7.set_ylabel('Latitude')\n",
    "axes7.set_title('Segment G Flight Path')"
   ]
  },
  {
   "cell_type": "markdown",
   "metadata": {},
   "source": [
    "### Segment H Waypoints\n",
    "We transform each waypoint in segment H by -12."
   ]
  },
  {
   "cell_type": "code",
   "execution_count": 135,
   "metadata": {},
   "outputs": [
    {
     "data": {
      "text/html": [
       "<div>\n",
       "<style scoped>\n",
       "    .dataframe tbody tr th:only-of-type {\n",
       "        vertical-align: middle;\n",
       "    }\n",
       "\n",
       "    .dataframe tbody tr th {\n",
       "        vertical-align: top;\n",
       "    }\n",
       "\n",
       "    .dataframe thead th {\n",
       "        text-align: right;\n",
       "    }\n",
       "</style>\n",
       "<table border=\"1\" class=\"dataframe\">\n",
       "  <thead>\n",
       "    <tr style=\"text-align: right;\">\n",
       "      <th></th>\n",
       "      <th>PreviousWayPoint_code</th>\n",
       "      <th>NextWayPoint_code</th>\n",
       "      <th>TargetWayPoint_code</th>\n",
       "    </tr>\n",
       "  </thead>\n",
       "  <tbody>\n",
       "    <tr>\n",
       "      <td>0</td>\n",
       "      <td>NaN</td>\n",
       "      <td>NaN</td>\n",
       "      <td>NaN</td>\n",
       "    </tr>\n",
       "    <tr>\n",
       "      <td>1</td>\n",
       "      <td>NaN</td>\n",
       "      <td>NaN</td>\n",
       "      <td>NaN</td>\n",
       "    </tr>\n",
       "    <tr>\n",
       "      <td>2</td>\n",
       "      <td>NaN</td>\n",
       "      <td>NaN</td>\n",
       "      <td>NaN</td>\n",
       "    </tr>\n",
       "    <tr>\n",
       "      <td>3</td>\n",
       "      <td>NaN</td>\n",
       "      <td>NaN</td>\n",
       "      <td>NaN</td>\n",
       "    </tr>\n",
       "    <tr>\n",
       "      <td>4</td>\n",
       "      <td>NaN</td>\n",
       "      <td>NaN</td>\n",
       "      <td>NaN</td>\n",
       "    </tr>\n",
       "    <tr>\n",
       "      <td>...</td>\n",
       "      <td>...</td>\n",
       "      <td>...</td>\n",
       "      <td>...</td>\n",
       "    </tr>\n",
       "    <tr>\n",
       "      <td>8282</td>\n",
       "      <td>NaN</td>\n",
       "      <td>NaN</td>\n",
       "      <td>NaN</td>\n",
       "    </tr>\n",
       "    <tr>\n",
       "      <td>8283</td>\n",
       "      <td>NaN</td>\n",
       "      <td>NaN</td>\n",
       "      <td>NaN</td>\n",
       "    </tr>\n",
       "    <tr>\n",
       "      <td>8284</td>\n",
       "      <td>NaN</td>\n",
       "      <td>NaN</td>\n",
       "      <td>NaN</td>\n",
       "    </tr>\n",
       "    <tr>\n",
       "      <td>8285</td>\n",
       "      <td>NaN</td>\n",
       "      <td>NaN</td>\n",
       "      <td>NaN</td>\n",
       "    </tr>\n",
       "    <tr>\n",
       "      <td>8286</td>\n",
       "      <td>12.0</td>\n",
       "      <td>13.0</td>\n",
       "      <td>14.0</td>\n",
       "    </tr>\n",
       "  </tbody>\n",
       "</table>\n",
       "<p>8287 rows × 3 columns</p>\n",
       "</div>"
      ],
      "text/plain": [
       "      PreviousWayPoint_code  NextWayPoint_code  TargetWayPoint_code\n",
       "0                       NaN                NaN                  NaN\n",
       "1                       NaN                NaN                  NaN\n",
       "2                       NaN                NaN                  NaN\n",
       "3                       NaN                NaN                  NaN\n",
       "4                       NaN                NaN                  NaN\n",
       "...                     ...                ...                  ...\n",
       "8282                    NaN                NaN                  NaN\n",
       "8283                    NaN                NaN                  NaN\n",
       "8284                    NaN                NaN                  NaN\n",
       "8285                    NaN                NaN                  NaN\n",
       "8286                   12.0               13.0                 14.0\n",
       "\n",
       "[8287 rows x 3 columns]"
      ]
     },
     "execution_count": 135,
     "metadata": {},
     "output_type": "execute_result"
    }
   ],
   "source": [
    "blue_H = pd.read_csv(r'C:\\Users\\Blake Bullwinkel\\Downloads\\WSSCGQWVS Corrected Sim Segments\\Blue\\Group_1_6454302531282_P8543_Blue_7_H.txt',sep='\t')\n",
    "blue_H[['PreviousWayPoint_code','NextWayPoint_code','TargetWayPoint_code']] = blue_H[['PreviousWayPoint_code','NextWayPoint_code','TargetWayPoint_code']].apply(lambda wp: wp-12)\n",
    "blue_H[['PreviousWayPoint_code','NextWayPoint_code','TargetWayPoint_code']]"
   ]
  },
  {
   "cell_type": "code",
   "execution_count": 148,
   "metadata": {},
   "outputs": [
    {
     "data": {
      "text/plain": [
       "Text(0.5, 1.0, 'Segment H Flight Path')"
      ]
     },
     "execution_count": 148,
     "metadata": {},
     "output_type": "execute_result"
    },
    {
     "data": {
      "image/png": "[encoded data removed]",
      "text/plain": [
       "<Figure size 432x288 with 1 Axes>"
      ]
     },
     "metadata": {
      "needs_background": "light"
     },
     "output_type": "display_data"
    }
   ],
   "source": [
    "fig8 = plt.figure()\n",
    "axes8 = fig8.add_axes([0.1,0.1,0.8,0.8])\n",
    "axes8.plot(blue_H['Longitude_deg'],blue_H['Latitude_deg'])\n",
    "axes8.set_xlabel('Longitude')\n",
    "axes8.set_ylabel('Latitude')\n",
    "axes8.set_title('Segment H Flight Path')"
   ]
  },
  {
   "cell_type": "markdown",
   "metadata": {},
   "source": [
    "### Segment I Waypoints\n",
    "We transform each waypoint in segment I by -20."
   ]
  },
  {
   "cell_type": "code",
   "execution_count": 138,
   "metadata": {},
   "outputs": [
    {
     "data": {
      "text/html": [
       "<div>\n",
       "<style scoped>\n",
       "    .dataframe tbody tr th:only-of-type {\n",
       "        vertical-align: middle;\n",
       "    }\n",
       "\n",
       "    .dataframe tbody tr th {\n",
       "        vertical-align: top;\n",
       "    }\n",
       "\n",
       "    .dataframe thead th {\n",
       "        text-align: right;\n",
       "    }\n",
       "</style>\n",
       "<table border=\"1\" class=\"dataframe\">\n",
       "  <thead>\n",
       "    <tr style=\"text-align: right;\">\n",
       "      <th></th>\n",
       "      <th>PreviousWayPoint_code</th>\n",
       "      <th>NextWayPoint_code</th>\n",
       "      <th>TargetWayPoint_code</th>\n",
       "    </tr>\n",
       "  </thead>\n",
       "  <tbody>\n",
       "    <tr>\n",
       "      <td>0</td>\n",
       "      <td>NaN</td>\n",
       "      <td>NaN</td>\n",
       "      <td>NaN</td>\n",
       "    </tr>\n",
       "    <tr>\n",
       "      <td>1</td>\n",
       "      <td>NaN</td>\n",
       "      <td>NaN</td>\n",
       "      <td>NaN</td>\n",
       "    </tr>\n",
       "    <tr>\n",
       "      <td>2</td>\n",
       "      <td>NaN</td>\n",
       "      <td>NaN</td>\n",
       "      <td>NaN</td>\n",
       "    </tr>\n",
       "    <tr>\n",
       "      <td>3</td>\n",
       "      <td>NaN</td>\n",
       "      <td>NaN</td>\n",
       "      <td>NaN</td>\n",
       "    </tr>\n",
       "    <tr>\n",
       "      <td>4</td>\n",
       "      <td>NaN</td>\n",
       "      <td>NaN</td>\n",
       "      <td>NaN</td>\n",
       "    </tr>\n",
       "    <tr>\n",
       "      <td>...</td>\n",
       "      <td>...</td>\n",
       "      <td>...</td>\n",
       "      <td>...</td>\n",
       "    </tr>\n",
       "    <tr>\n",
       "      <td>11226</td>\n",
       "      <td>NaN</td>\n",
       "      <td>NaN</td>\n",
       "      <td>NaN</td>\n",
       "    </tr>\n",
       "    <tr>\n",
       "      <td>11227</td>\n",
       "      <td>NaN</td>\n",
       "      <td>NaN</td>\n",
       "      <td>NaN</td>\n",
       "    </tr>\n",
       "    <tr>\n",
       "      <td>11228</td>\n",
       "      <td>NaN</td>\n",
       "      <td>NaN</td>\n",
       "      <td>NaN</td>\n",
       "    </tr>\n",
       "    <tr>\n",
       "      <td>11229</td>\n",
       "      <td>8.0</td>\n",
       "      <td>9.0</td>\n",
       "      <td>9.0</td>\n",
       "    </tr>\n",
       "    <tr>\n",
       "      <td>11230</td>\n",
       "      <td>NaN</td>\n",
       "      <td>NaN</td>\n",
       "      <td>NaN</td>\n",
       "    </tr>\n",
       "  </tbody>\n",
       "</table>\n",
       "<p>11231 rows × 3 columns</p>\n",
       "</div>"
      ],
      "text/plain": [
       "       PreviousWayPoint_code  NextWayPoint_code  TargetWayPoint_code\n",
       "0                        NaN                NaN                  NaN\n",
       "1                        NaN                NaN                  NaN\n",
       "2                        NaN                NaN                  NaN\n",
       "3                        NaN                NaN                  NaN\n",
       "4                        NaN                NaN                  NaN\n",
       "...                      ...                ...                  ...\n",
       "11226                    NaN                NaN                  NaN\n",
       "11227                    NaN                NaN                  NaN\n",
       "11228                    NaN                NaN                  NaN\n",
       "11229                    8.0                9.0                  9.0\n",
       "11230                    NaN                NaN                  NaN\n",
       "\n",
       "[11231 rows x 3 columns]"
      ]
     },
     "execution_count": 138,
     "metadata": {},
     "output_type": "execute_result"
    }
   ],
   "source": [
    "blue_I = pd.read_csv(r'C:\\Users\\Blake Bullwinkel\\Downloads\\WSSCGQWVS Corrected Sim Segments\\Blue\\Group_1_6454302531282_P8543_Blue_8_I.txt',sep='\t')\n",
    "blue_I[['PreviousWayPoint_code','NextWayPoint_code','TargetWayPoint_code']] = blue_I[['PreviousWayPoint_code','NextWayPoint_code','TargetWayPoint_code']].apply(lambda wp: wp-20)\n",
    "blue_I[['PreviousWayPoint_code','NextWayPoint_code','TargetWayPoint_code']]"
   ]
  },
  {
   "cell_type": "code",
   "execution_count": 149,
   "metadata": {},
   "outputs": [
    {
     "data": {
      "text/plain": [
       "Text(0.5, 1.0, 'Segment I Flight Path')"
      ]
     },
     "execution_count": 149,
     "metadata": {},
     "output_type": "execute_result"
    },
    {
     "data": {
      "image/png": "[encoded data removed]",
      "text/plain": [
       "<Figure size 432x288 with 1 Axes>"
      ]
     },
     "metadata": {
      "needs_background": "light"
     },
     "output_type": "display_data"
    }
   ],
   "source": [
    "fig9 = plt.figure()\n",
    "axes9 = fig9.add_axes([0.1,0.1,0.8,0.8])\n",
    "axes9.plot(blue_I['Longitude_deg'],blue_I['Latitude_deg'])\n",
    "axes9.set_xlabel('Longitude')\n",
    "axes9.set_ylabel('Latitude')\n",
    "axes9.set_title('Segment I Flight Path')"
   ]
  },
  {
   "cell_type": "markdown",
   "metadata": {},
   "source": [
    "### Segment J Waypoints\n",
    "We transform each waypoint in segment J by -28."
   ]
  },
  {
   "cell_type": "code",
   "execution_count": 167,
   "metadata": {},
   "outputs": [
    {
     "data": {
      "text/html": [
       "<div>\n",
       "<style scoped>\n",
       "    .dataframe tbody tr th:only-of-type {\n",
       "        vertical-align: middle;\n",
       "    }\n",
       "\n",
       "    .dataframe tbody tr th {\n",
       "        vertical-align: top;\n",
       "    }\n",
       "\n",
       "    .dataframe thead th {\n",
       "        text-align: right;\n",
       "    }\n",
       "</style>\n",
       "<table border=\"1\" class=\"dataframe\">\n",
       "  <thead>\n",
       "    <tr style=\"text-align: right;\">\n",
       "      <th></th>\n",
       "      <th>PreviousWayPoint_code</th>\n",
       "      <th>NextWayPoint_code</th>\n",
       "      <th>TargetWayPoint_code</th>\n",
       "    </tr>\n",
       "  </thead>\n",
       "  <tbody>\n",
       "    <tr>\n",
       "      <td>0</td>\n",
       "      <td>NaN</td>\n",
       "      <td>NaN</td>\n",
       "      <td>NaN</td>\n",
       "    </tr>\n",
       "    <tr>\n",
       "      <td>1</td>\n",
       "      <td>NaN</td>\n",
       "      <td>NaN</td>\n",
       "      <td>NaN</td>\n",
       "    </tr>\n",
       "    <tr>\n",
       "      <td>2</td>\n",
       "      <td>NaN</td>\n",
       "      <td>NaN</td>\n",
       "      <td>NaN</td>\n",
       "    </tr>\n",
       "    <tr>\n",
       "      <td>3</td>\n",
       "      <td>NaN</td>\n",
       "      <td>NaN</td>\n",
       "      <td>NaN</td>\n",
       "    </tr>\n",
       "    <tr>\n",
       "      <td>4</td>\n",
       "      <td>NaN</td>\n",
       "      <td>NaN</td>\n",
       "      <td>NaN</td>\n",
       "    </tr>\n",
       "    <tr>\n",
       "      <td>...</td>\n",
       "      <td>...</td>\n",
       "      <td>...</td>\n",
       "      <td>...</td>\n",
       "    </tr>\n",
       "    <tr>\n",
       "      <td>8509</td>\n",
       "      <td>NaN</td>\n",
       "      <td>NaN</td>\n",
       "      <td>NaN</td>\n",
       "    </tr>\n",
       "    <tr>\n",
       "      <td>8510</td>\n",
       "      <td>NaN</td>\n",
       "      <td>NaN</td>\n",
       "      <td>NaN</td>\n",
       "    </tr>\n",
       "    <tr>\n",
       "      <td>8511</td>\n",
       "      <td>NaN</td>\n",
       "      <td>NaN</td>\n",
       "      <td>NaN</td>\n",
       "    </tr>\n",
       "    <tr>\n",
       "      <td>8512</td>\n",
       "      <td>4.0</td>\n",
       "      <td>5.0</td>\n",
       "      <td>6.0</td>\n",
       "    </tr>\n",
       "    <tr>\n",
       "      <td>8513</td>\n",
       "      <td>NaN</td>\n",
       "      <td>NaN</td>\n",
       "      <td>NaN</td>\n",
       "    </tr>\n",
       "  </tbody>\n",
       "</table>\n",
       "<p>8514 rows × 3 columns</p>\n",
       "</div>"
      ],
      "text/plain": [
       "      PreviousWayPoint_code  NextWayPoint_code  TargetWayPoint_code\n",
       "0                       NaN                NaN                  NaN\n",
       "1                       NaN                NaN                  NaN\n",
       "2                       NaN                NaN                  NaN\n",
       "3                       NaN                NaN                  NaN\n",
       "4                       NaN                NaN                  NaN\n",
       "...                     ...                ...                  ...\n",
       "8509                    NaN                NaN                  NaN\n",
       "8510                    NaN                NaN                  NaN\n",
       "8511                    NaN                NaN                  NaN\n",
       "8512                    4.0                5.0                  6.0\n",
       "8513                    NaN                NaN                  NaN\n",
       "\n",
       "[8514 rows x 3 columns]"
      ]
     },
     "execution_count": 167,
     "metadata": {},
     "output_type": "execute_result"
    }
   ],
   "source": [
    "blue_J = pd.read_csv(r'C:\\Users\\Blake Bullwinkel\\Downloads\\WSSCGQWVS Corrected Sim Segments\\Blue\\Group_1_6454302531282_P8543_Blue_9_J.txt',sep='\t')\n",
    "blue_J[['PreviousWayPoint_code','NextWayPoint_code','TargetWayPoint_code']] = blue_J[['PreviousWayPoint_code','NextWayPoint_code','TargetWayPoint_code']].apply(lambda wp: wp-28)\n",
    "blue_J[['PreviousWayPoint_code','NextWayPoint_code','TargetWayPoint_code']]"
   ]
  },
  {
   "cell_type": "code",
   "execution_count": 150,
   "metadata": {},
   "outputs": [
    {
     "data": {
      "text/plain": [
       "Text(0.5, 1.0, 'Segment J Flight Path')"
      ]
     },
     "execution_count": 150,
     "metadata": {},
     "output_type": "execute_result"
    },
    {
     "data": {
      "image/png": "[encoded data removed]",
      "text/plain": [
       "<Figure size 432x288 with 1 Axes>"
      ]
     },
     "metadata": {
      "needs_background": "light"
     },
     "output_type": "display_data"
    }
   ],
   "source": [
    "fig10 = plt.figure()\n",
    "axes10 = fig10.add_axes([0.1,0.1,0.8,0.8])\n",
    "axes10.plot(blue_J['Longitude_deg'],blue_J['Latitude_deg'])\n",
    "axes10.set_xlabel('Longitude')\n",
    "axes10.set_ylabel('Latitude')\n",
    "axes10.set_title('Segment J Flight Path')"
   ]
  },
  {
   "cell_type": "markdown",
   "metadata": {},
   "source": [
    "## Creating Relabeled Files\n",
    "The code below will relabel the waypoints of the flights taken by all eight pilots who flew the \"blue\" route and save each segment (from C to J, since A and B are unchanged) as a new .txt file."
   ]
  },
  {
   "cell_type": "code",
   "execution_count": 190,
   "metadata": {},
   "outputs": [],
   "source": [
    "pilot_ids = {'6454302531282_P8543':1, '7167357727955_P5427':1, '6306616351170_P7442':2, '5611620001340_P8666':3, '6709586887529_P5510':3, '6010571848831_P8099':4, '6054129383014_P3233':4, '6116054505008_P6109':4}\n",
    "segments = {0:'A', 1:'B', 2:'C', 3:'D', 4:'E', 5:'F', 6:'G', 7:'H', 8:'I', 9:'J'}\n",
    "\n",
    "for pilot_id in pilot_ids:\n",
    "    offset = 28\n",
    "    for i in range(2,10):\n",
    "        segment = pd.read_csv(r'C:\\Users\\Blake Bullwinkel\\Downloads\\WSSCGQWVS Corrected Sim Segments\\Blue\\Group_'+str(pilot_ids[pilot_id])+'_'+pilot_id+'_Blue_'+str(i)+'_'+segments[i]+'.txt',sep='\t')\n",
    "        segment[['PreviousWayPoint_code','NextWayPoint_code','TargetWayPoint_code']] = segment[['PreviousWayPoint_code','NextWayPoint_code','TargetWayPoint_code']].apply(lambda wp: wp+offset)\n",
    "        segment.to_csv('Relabeled_Group_'+str(pilot_ids[pilot_id])+'_'+pilot_id+'_Blue_'+str(i)+'_'+segments[i]+'.txt',na_rep=np.NaN,index=False,sep='\t')\n",
    "        offset -= 8\n"
   ]
  },
  {
   "cell_type": "code",
   "execution_count": null,
   "metadata": {},
   "outputs": [],
   "source": []
  }
 ],
 "metadata": {
  "kernelspec": {
   "display_name": "Python 3",
   "language": "python",
   "name": "python3"
  },
  "language_info": {
   "codemirror_mode": {
    "name": "ipython",
    "version": 3
   },
   "file_extension": ".py",
   "mimetype": "text/x-python",
   "name": "python",
   "nbconvert_exporter": "python",
   "pygments_lexer": "ipython3",
   "version": "3.7.4"
  }
 },
 "nbformat": 4,
 "nbformat_minor": 2
}
